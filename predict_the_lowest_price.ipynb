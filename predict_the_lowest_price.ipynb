{
 "cells": [
  {
   "cell_type": "code",
   "execution_count": 1,
   "metadata": {},
   "outputs": [],
   "source": [
    "# Import Dependencies\n",
    "%matplotlib inline\n",
    "\n",
    "# Start Python Imports\n",
    "import math, time, random, datetime\n",
    "\n",
    "# Data Manipulation\n",
    "import numpy as np\n",
    "import pandas as pd\n",
    "\n",
    "# Visualization \n",
    "import matplotlib.pyplot as plt\n",
    "import missingno\n",
    "import seaborn as sns\n",
    "plt.style.use('seaborn-whitegrid')\n",
    "\n",
    "# Let's be rebels and ignore warnings for now\n",
    "import warnings\n",
    "warnings.filterwarnings('ignore')\n"
   ]
  },
  {
   "cell_type": "markdown",
   "metadata": {},
   "source": [
    "Here we import the data. For this analysis, we will be exclusively working with the Training set. We will be validating based on data from the training set as well. For our final submissions, we will make predictions based on the test set. "
   ]
  },
  {
   "cell_type": "code",
   "execution_count": 2,
   "metadata": {},
   "outputs": [],
   "source": [
    "# Import train & test data \n",
    "train = pd.read_csv('dataset/train.csv')\n",
    "test = pd.read_csv('dataset/test.csv')\n"
   ]
  },
  {
   "cell_type": "code",
   "execution_count": 8,
   "metadata": {},
   "outputs": [
    {
     "name": "stdout",
     "output_type": "stream",
     "text": [
      "Shape of the training data:  (9798, 9)\n",
      "Shape of the test data:  (5763, 8)\n"
     ]
    }
   ],
   "source": [
    "print(\"Shape of the training data: \",train.shape)\n",
    "print(\"Shape of the test data: \",test.shape)"
   ]
  },
  {
   "cell_type": "markdown",
   "metadata": {},
   "source": [
    "# Data description\n",
    "\n",
    "**Item_Id:** \tUnique item ID\n",
    "\n",
    "**Date:** \tDate\n",
    "\n",
    "**State_of_Country:** \tState no. of the country\n",
    "\n",
    "**Market_Category:** \tCategory of the market to which the product belongs to\n",
    "\n",
    "**Product_Category:** \tCategory of the product\n",
    "\n",
    "**Grade:** \tQuality of the product\n",
    "\n",
    "**Demand:** \tDemand rate of the product in the market\n",
    "\n",
    "**Low_Cap_Price [Target]:** \tLowest price that can be offered \n",
    "\n",
    "**High_Cap_Price:** \tOriginal maximum price in the current market"
   ]
  },
  {
   "cell_type": "code",
   "execution_count": 3,
   "metadata": {},
   "outputs": [
    {
     "data": {
      "text/plain": [
       "Index(['Item_Id', 'Date', 'State_of_Country', 'Market_Category',\n",
       "       'Product_Category', 'Grade', 'Demand', 'Low_Cap_Price',\n",
       "       'High_Cap_Price'],\n",
       "      dtype='object')"
      ]
     },
     "execution_count": 3,
     "metadata": {},
     "output_type": "execute_result"
    }
   ],
   "source": [
    "# View the training data columns\n",
    "train.columns"
   ]
  },
  {
   "cell_type": "markdown",
   "metadata": {},
   "source": [
    "## Light Data Exploration\n",
    "### 1) For numeric data \n",
    "* Made histograms to understand distributions \n",
    "* Corrplot \n",
    "* Pivot table comparing survival rate across numeric variables \n",
    "\n",
    "\n",
    "### 2) For Categorical Data \n",
    "* Made bar charts to understand balance of classes \n",
    "* Made pivot tables to understand relationship with survival "
   ]
  },
  {
   "cell_type": "code",
   "execution_count": 4,
   "metadata": {},
   "outputs": [
    {
     "name": "stdout",
     "output_type": "stream",
     "text": [
      "<class 'pandas.core.frame.DataFrame'>\n",
      "RangeIndex: 9798 entries, 0 to 9797\n",
      "Data columns (total 9 columns):\n",
      " #   Column            Non-Null Count  Dtype  \n",
      "---  ------            --------------  -----  \n",
      " 0   Item_Id           9798 non-null   object \n",
      " 1   Date              9798 non-null   object \n",
      " 2   State_of_Country  9798 non-null   int64  \n",
      " 3   Market_Category   9798 non-null   int64  \n",
      " 4   Product_Category  9798 non-null   int64  \n",
      " 5   Grade             9798 non-null   int64  \n",
      " 6   Demand            9798 non-null   float64\n",
      " 7   Low_Cap_Price     9798 non-null   int64  \n",
      " 8   High_Cap_Price    9798 non-null   int64  \n",
      "dtypes: float64(1), int64(6), object(2)\n",
      "memory usage: 689.0+ KB\n"
     ]
    }
   ],
   "source": [
    "#quick look at our data types & null counts\n",
    "train.info()"
   ]
  },
  {
   "cell_type": "code",
   "execution_count": 5,
   "metadata": {},
   "outputs": [
    {
     "name": "stdout",
     "output_type": "stream",
     "text": [
      "<class 'pandas.core.frame.DataFrame'>\n",
      "RangeIndex: 5763 entries, 0 to 5762\n",
      "Data columns (total 8 columns):\n",
      " #   Column            Non-Null Count  Dtype  \n",
      "---  ------            --------------  -----  \n",
      " 0   Item_Id           5763 non-null   object \n",
      " 1   Date              5763 non-null   object \n",
      " 2   State_of_Country  5763 non-null   int64  \n",
      " 3   Market_Category   5763 non-null   int64  \n",
      " 4   Product_Category  5763 non-null   int64  \n",
      " 5   Grade             5763 non-null   int64  \n",
      " 6   Demand            5763 non-null   float64\n",
      " 7   High_Cap_Price    5763 non-null   int64  \n",
      "dtypes: float64(1), int64(5), object(2)\n",
      "memory usage: 360.3+ KB\n"
     ]
    }
   ],
   "source": [
    "test.info()"
   ]
  },
  {
   "cell_type": "code",
   "execution_count": 6,
   "metadata": {
    "scrolled": true
   },
   "outputs": [
    {
     "data": {
      "text/html": [
       "<div>\n",
       "<style scoped>\n",
       "    .dataframe tbody tr th:only-of-type {\n",
       "        vertical-align: middle;\n",
       "    }\n",
       "\n",
       "    .dataframe tbody tr th {\n",
       "        vertical-align: top;\n",
       "    }\n",
       "\n",
       "    .dataframe thead th {\n",
       "        text-align: right;\n",
       "    }\n",
       "</style>\n",
       "<table border=\"1\" class=\"dataframe\">\n",
       "  <thead>\n",
       "    <tr style=\"text-align: right;\">\n",
       "      <th></th>\n",
       "      <th>State_of_Country</th>\n",
       "      <th>Market_Category</th>\n",
       "      <th>Product_Category</th>\n",
       "      <th>Grade</th>\n",
       "      <th>Demand</th>\n",
       "      <th>Low_Cap_Price</th>\n",
       "      <th>High_Cap_Price</th>\n",
       "    </tr>\n",
       "  </thead>\n",
       "  <tbody>\n",
       "    <tr>\n",
       "      <th>count</th>\n",
       "      <td>9798.000000</td>\n",
       "      <td>9798.000000</td>\n",
       "      <td>9798.000000</td>\n",
       "      <td>9798.000000</td>\n",
       "      <td>9798.000000</td>\n",
       "      <td>9798.000000</td>\n",
       "      <td>9798.000000</td>\n",
       "    </tr>\n",
       "    <tr>\n",
       "      <th>mean</th>\n",
       "      <td>14.278730</td>\n",
       "      <td>198.414064</td>\n",
       "      <td>2.492958</td>\n",
       "      <td>0.652072</td>\n",
       "      <td>71.977414</td>\n",
       "      <td>3500.273525</td>\n",
       "      <td>6349.838028</td>\n",
       "    </tr>\n",
       "    <tr>\n",
       "      <th>std</th>\n",
       "      <td>8.760964</td>\n",
       "      <td>169.767862</td>\n",
       "      <td>4.751807</td>\n",
       "      <td>1.032439</td>\n",
       "      <td>927.194052</td>\n",
       "      <td>2188.046803</td>\n",
       "      <td>3652.780956</td>\n",
       "    </tr>\n",
       "    <tr>\n",
       "      <th>min</th>\n",
       "      <td>0.000000</td>\n",
       "      <td>0.000000</td>\n",
       "      <td>0.000000</td>\n",
       "      <td>0.000000</td>\n",
       "      <td>0.000000</td>\n",
       "      <td>1.000000</td>\n",
       "      <td>163.000000</td>\n",
       "    </tr>\n",
       "    <tr>\n",
       "      <th>25%</th>\n",
       "      <td>3.000000</td>\n",
       "      <td>55.000000</td>\n",
       "      <td>0.000000</td>\n",
       "      <td>0.000000</td>\n",
       "      <td>0.500000</td>\n",
       "      <td>1863.250000</td>\n",
       "      <td>3878.250000</td>\n",
       "    </tr>\n",
       "    <tr>\n",
       "      <th>50%</th>\n",
       "      <td>20.000000</td>\n",
       "      <td>129.000000</td>\n",
       "      <td>0.000000</td>\n",
       "      <td>0.000000</td>\n",
       "      <td>2.000000</td>\n",
       "      <td>3124.000000</td>\n",
       "      <td>5552.500000</td>\n",
       "    </tr>\n",
       "    <tr>\n",
       "      <th>75%</th>\n",
       "      <td>21.000000</td>\n",
       "      <td>389.000000</td>\n",
       "      <td>1.000000</td>\n",
       "      <td>2.000000</td>\n",
       "      <td>10.175000</td>\n",
       "      <td>4667.500000</td>\n",
       "      <td>7993.750000</td>\n",
       "    </tr>\n",
       "    <tr>\n",
       "      <th>max</th>\n",
       "      <td>23.000000</td>\n",
       "      <td>471.000000</td>\n",
       "      <td>17.000000</td>\n",
       "      <td>3.000000</td>\n",
       "      <td>64160.500000</td>\n",
       "      <td>17580.000000</td>\n",
       "      <td>58812.000000</td>\n",
       "    </tr>\n",
       "  </tbody>\n",
       "</table>\n",
       "</div>"
      ],
      "text/plain": [
       "       State_of_Country  Market_Category  Product_Category        Grade  \\\n",
       "count       9798.000000      9798.000000       9798.000000  9798.000000   \n",
       "mean          14.278730       198.414064          2.492958     0.652072   \n",
       "std            8.760964       169.767862          4.751807     1.032439   \n",
       "min            0.000000         0.000000          0.000000     0.000000   \n",
       "25%            3.000000        55.000000          0.000000     0.000000   \n",
       "50%           20.000000       129.000000          0.000000     0.000000   \n",
       "75%           21.000000       389.000000          1.000000     2.000000   \n",
       "max           23.000000       471.000000         17.000000     3.000000   \n",
       "\n",
       "             Demand  Low_Cap_Price  High_Cap_Price  \n",
       "count   9798.000000    9798.000000     9798.000000  \n",
       "mean      71.977414    3500.273525     6349.838028  \n",
       "std      927.194052    2188.046803     3652.780956  \n",
       "min        0.000000       1.000000      163.000000  \n",
       "25%        0.500000    1863.250000     3878.250000  \n",
       "50%        2.000000    3124.000000     5552.500000  \n",
       "75%       10.175000    4667.500000     7993.750000  \n",
       "max    64160.500000   17580.000000    58812.000000  "
      ]
     },
     "execution_count": 6,
     "metadata": {},
     "output_type": "execute_result"
    }
   ],
   "source": [
    "# to better understand the numeric data, we want to use the .describe() method. This gives us an understanding of the central tendencies of the data \n",
    "train.describe()"
   ]
  },
  {
   "cell_type": "code",
   "execution_count": 10,
   "metadata": {},
   "outputs": [
    {
     "data": {
      "text/html": [
       "<div>\n",
       "<style scoped>\n",
       "    .dataframe tbody tr th:only-of-type {\n",
       "        vertical-align: middle;\n",
       "    }\n",
       "\n",
       "    .dataframe tbody tr th {\n",
       "        vertical-align: top;\n",
       "    }\n",
       "\n",
       "    .dataframe thead th {\n",
       "        text-align: right;\n",
       "    }\n",
       "</style>\n",
       "<table border=\"1\" class=\"dataframe\">\n",
       "  <thead>\n",
       "    <tr style=\"text-align: right;\">\n",
       "      <th></th>\n",
       "      <th>Item_Id</th>\n",
       "      <th>Date</th>\n",
       "      <th>State_of_Country</th>\n",
       "      <th>Market_Category</th>\n",
       "      <th>Product_Category</th>\n",
       "      <th>Grade</th>\n",
       "      <th>Demand</th>\n",
       "      <th>Low_Cap_Price</th>\n",
       "      <th>High_Cap_Price</th>\n",
       "    </tr>\n",
       "  </thead>\n",
       "  <tbody>\n",
       "    <tr>\n",
       "      <th>0</th>\n",
       "      <td>IT_1</td>\n",
       "      <td>2007-07-05</td>\n",
       "      <td>0</td>\n",
       "      <td>0</td>\n",
       "      <td>0</td>\n",
       "      <td>0</td>\n",
       "      <td>0.5</td>\n",
       "      <td>2785</td>\n",
       "      <td>4240</td>\n",
       "    </tr>\n",
       "    <tr>\n",
       "      <th>1</th>\n",
       "      <td>IT_2</td>\n",
       "      <td>2007-07-05</td>\n",
       "      <td>0</td>\n",
       "      <td>1</td>\n",
       "      <td>0</td>\n",
       "      <td>0</td>\n",
       "      <td>0.7</td>\n",
       "      <td>3574</td>\n",
       "      <td>4756</td>\n",
       "    </tr>\n",
       "    <tr>\n",
       "      <th>2</th>\n",
       "      <td>IT_3</td>\n",
       "      <td>2007-07-05</td>\n",
       "      <td>0</td>\n",
       "      <td>103</td>\n",
       "      <td>0</td>\n",
       "      <td>1</td>\n",
       "      <td>1.6</td>\n",
       "      <td>5978</td>\n",
       "      <td>9669</td>\n",
       "    </tr>\n",
       "    <tr>\n",
       "      <th>3</th>\n",
       "      <td>IT_4</td>\n",
       "      <td>2007-07-05</td>\n",
       "      <td>0</td>\n",
       "      <td>103</td>\n",
       "      <td>0</td>\n",
       "      <td>0</td>\n",
       "      <td>0.0</td>\n",
       "      <td>5681</td>\n",
       "      <td>8313</td>\n",
       "    </tr>\n",
       "    <tr>\n",
       "      <th>4</th>\n",
       "      <td>IT_5</td>\n",
       "      <td>2007-07-05</td>\n",
       "      <td>0</td>\n",
       "      <td>103</td>\n",
       "      <td>0</td>\n",
       "      <td>2</td>\n",
       "      <td>0.0</td>\n",
       "      <td>4924</td>\n",
       "      <td>7257</td>\n",
       "    </tr>\n",
       "  </tbody>\n",
       "</table>\n",
       "</div>"
      ],
      "text/plain": [
       "  Item_Id        Date  State_of_Country  Market_Category  Product_Category  \\\n",
       "0    IT_1  2007-07-05                 0                0                 0   \n",
       "1    IT_2  2007-07-05                 0                1                 0   \n",
       "2    IT_3  2007-07-05                 0              103                 0   \n",
       "3    IT_4  2007-07-05                 0              103                 0   \n",
       "4    IT_5  2007-07-05                 0              103                 0   \n",
       "\n",
       "   Grade  Demand  Low_Cap_Price  High_Cap_Price  \n",
       "0      0     0.5           2785            4240  \n",
       "1      0     0.7           3574            4756  \n",
       "2      1     1.6           5978            9669  \n",
       "3      0     0.0           5681            8313  \n",
       "4      2     0.0           4924            7257  "
      ]
     },
     "execution_count": 10,
     "metadata": {},
     "output_type": "execute_result"
    }
   ],
   "source": [
    "train.head()"
   ]
  },
  {
   "cell_type": "code",
   "execution_count": 12,
   "metadata": {},
   "outputs": [],
   "source": [
    "# look at numeric and categorical values separately \n",
    "df_num =  train[['Demand', 'Low_Cap_Price', 'High_Cap_Price']]\n",
    "df_cat =  train[['State_of_Country','Market_Category', 'Product_Category', 'Grade']]"
   ]
  },
  {
   "cell_type": "code",
   "execution_count": 13,
   "metadata": {},
   "outputs": [
    {
     "data": {
      "image/png": "[encoded data removed]",
      "text/plain": [
       "<Figure size 432x288 with 1 Axes>"
      ]
     },
     "metadata": {},
     "output_type": "display_data"
    },
    {
     "data": {
      "image/png": "[encoded data removed]",
      "text/plain": [
       "<Figure size 432x288 with 1 Axes>"
      ]
     },
     "metadata": {},
     "output_type": "display_data"
    },
    {
     "data": {
      "image/png": "[encoded data removed]",
      "text/plain": [
       "<Figure size 432x288 with 1 Axes>"
      ]
     },
     "metadata": {},
     "output_type": "display_data"
    }
   ],
   "source": [
    "#distributions for all numeric variables \n",
    "for i in df_num.columns:\n",
    "    plt.hist(df_num[i])\n",
    "    plt.title(i)\n",
    "    plt.show()"
   ]
  },
  {
   "cell_type": "markdown",
   "metadata": {},
   "source": [
    "Perhaps we should take the non-normal distributions and consider normalizing them?"
   ]
  },
  {
   "cell_type": "markdown",
   "metadata": {},
   "source": [
    "\n"
   ]
  },
  {
   "cell_type": "code",
   "execution_count": 14,
   "metadata": {},
   "outputs": [
    {
     "name": "stdout",
     "output_type": "stream",
     "text": [
      "                  Demand  Low_Cap_Price  High_Cap_Price\n",
      "Demand          1.000000      -0.057482       -0.033971\n",
      "Low_Cap_Price  -0.057482       1.000000        0.721021\n",
      "High_Cap_Price -0.033971       0.721021        1.000000\n"
     ]
    },
    {
     "data": {
      "text/plain": [
       "<matplotlib.axes._subplots.AxesSubplot at 0x2a2e62862c8>"
      ]
     },
     "execution_count": 14,
     "metadata": {},
     "output_type": "execute_result"
    },
    {
     "data": {
      "image/png": "[encoded data removed]",
      "text/plain": [
       "<Figure size 432x288 with 2 Axes>"
      ]
     },
     "metadata": {},
     "output_type": "display_data"
    }
   ],
   "source": [
    "print(df_num.corr())\n",
    "sns.heatmap(df_num.corr())"
   ]
  },
  {
   "cell_type": "code",
   "execution_count": 21,
   "metadata": {},
   "outputs": [
    {
     "data": {
      "image/png": "[encoded data removed]",
      "text/plain": [
       "<Figure size 1440x360 with 1 Axes>"
      ]
     },
     "metadata": {},
     "output_type": "display_data"
    },
    {
     "data": {
      "image/png": "[encoded data removed]",
      "text/plain": [
       "<Figure size 1440x360 with 1 Axes>"
      ]
     },
     "metadata": {},
     "output_type": "display_data"
    },
    {
     "data": {
      "image/png": "[encoded data removed]",
      "text/plain": [
       "<Figure size 1440x360 with 1 Axes>"
      ]
     },
     "metadata": {},
     "output_type": "display_data"
    },
    {
     "data": {
      "image/png": "[encoded data removed]",
      "text/plain": [
       "<Figure size 1440x360 with 1 Axes>"
      ]
     },
     "metadata": {},
     "output_type": "display_data"
    }
   ],
   "source": [
    "for i in df_cat.columns:\n",
    "    fig = plt.figure(figsize=(20,5))\n",
    "    sns.barplot(df_cat[i].value_counts().index,df_cat[i].value_counts()).set_title(i)\n",
    "    plt.show()"
   ]
  },
  {
   "cell_type": "markdown",
   "metadata": {},
   "source": [
    "## What missing values are there?\n",
    "\n",
    "Where are the holes in our data?\n",
    "\n",
    "These are rows which are missing a value or have NaN instead of something like the rest of the column."
   ]
  },
  {
   "cell_type": "code",
   "execution_count": 22,
   "metadata": {},
   "outputs": [
    {
     "data": {
      "text/plain": [
       "<matplotlib.axes._subplots.AxesSubplot at 0x2a2e85c2808>"
      ]
     },
     "execution_count": 22,
     "metadata": {},
     "output_type": "execute_result"
    },
    {
     "data": {
      "image/png": "[encoded data removed]",
      "text/plain": [
       "<Figure size 2160x720 with 2 Axes>"
      ]
     },
     "metadata": {},
     "output_type": "display_data"
    }
   ],
   "source": [
    "# Plot graphic of missing values for train data\n",
    "missingno.matrix(train, figsize = (30,10))"
   ]
  },
  {
   "cell_type": "code",
   "execution_count": 23,
   "metadata": {
    "scrolled": true
   },
   "outputs": [
    {
     "data": {
      "text/plain": [
       "Item_Id             0\n",
       "Date                0\n",
       "State_of_Country    0\n",
       "Market_Category     0\n",
       "Product_Category    0\n",
       "Grade               0\n",
       "Demand              0\n",
       "Low_Cap_Price       0\n",
       "High_Cap_Price      0\n",
       "dtype: int64"
      ]
     },
     "execution_count": 23,
     "metadata": {},
     "output_type": "execute_result"
    }
   ],
   "source": [
    "# Alternatively, you can see the number of missing values like this\n",
    "train.isnull().sum()"
   ]
  },
  {
   "cell_type": "code",
   "execution_count": 24,
   "metadata": {},
   "outputs": [
    {
     "data": {
      "text/html": [
       "<div>\n",
       "<style scoped>\n",
       "    .dataframe tbody tr th:only-of-type {\n",
       "        vertical-align: middle;\n",
       "    }\n",
       "\n",
       "    .dataframe tbody tr th {\n",
       "        vertical-align: top;\n",
       "    }\n",
       "\n",
       "    .dataframe thead th {\n",
       "        text-align: right;\n",
       "    }\n",
       "</style>\n",
       "<table border=\"1\" class=\"dataframe\">\n",
       "  <thead>\n",
       "    <tr style=\"text-align: right;\">\n",
       "      <th></th>\n",
       "      <th>Total</th>\n",
       "      <th>%</th>\n",
       "    </tr>\n",
       "  </thead>\n",
       "  <tbody>\n",
       "    <tr>\n",
       "      <th>High_Cap_Price</th>\n",
       "      <td>0</td>\n",
       "      <td>0.0</td>\n",
       "    </tr>\n",
       "    <tr>\n",
       "      <th>Low_Cap_Price</th>\n",
       "      <td>0</td>\n",
       "      <td>0.0</td>\n",
       "    </tr>\n",
       "    <tr>\n",
       "      <th>Demand</th>\n",
       "      <td>0</td>\n",
       "      <td>0.0</td>\n",
       "    </tr>\n",
       "    <tr>\n",
       "      <th>Grade</th>\n",
       "      <td>0</td>\n",
       "      <td>0.0</td>\n",
       "    </tr>\n",
       "    <tr>\n",
       "      <th>Product_Category</th>\n",
       "      <td>0</td>\n",
       "      <td>0.0</td>\n",
       "    </tr>\n",
       "  </tbody>\n",
       "</table>\n",
       "</div>"
      ],
      "text/plain": [
       "                  Total    %\n",
       "High_Cap_Price        0  0.0\n",
       "Low_Cap_Price         0  0.0\n",
       "Demand                0  0.0\n",
       "Grade                 0  0.0\n",
       "Product_Category      0  0.0"
      ]
     },
     "execution_count": 24,
     "metadata": {},
     "output_type": "execute_result"
    }
   ],
   "source": [
    "total_train = train.isnull().sum().sort_values(ascending=False)\n",
    "percent_1 = train.isnull().sum()/train.isnull().count()*100\n",
    "percent_2 = (round(percent_1, 1)).sort_values(ascending=False)\n",
    "missing_data_train = pd.concat([total_train, percent_2], axis=1, keys=['Total', '%'])\n",
    "missing_data_train.head(5)"
   ]
  },
  {
   "cell_type": "markdown",
   "metadata": {},
   "source": [
    "Similarly i checked for missing data in test data"
   ]
  },
  {
   "cell_type": "code",
   "execution_count": 25,
   "metadata": {
    "scrolled": false
   },
   "outputs": [
    {
     "data": {
      "text/plain": [
       "Item_Id             0\n",
       "Date                0\n",
       "State_of_Country    0\n",
       "Market_Category     0\n",
       "Product_Category    0\n",
       "Grade               0\n",
       "Demand              0\n",
       "High_Cap_Price      0\n",
       "dtype: int64"
      ]
     },
     "execution_count": 25,
     "metadata": {},
     "output_type": "execute_result"
    }
   ],
   "source": [
    "test.isnull().sum()"
   ]
  },
  {
   "cell_type": "code",
   "execution_count": 26,
   "metadata": {},
   "outputs": [
    {
     "data": {
      "text/plain": [
       "<matplotlib.axes._subplots.AxesSubplot at 0x2a2e5c1e288>"
      ]
     },
     "execution_count": 26,
     "metadata": {},
     "output_type": "execute_result"
    },
    {
     "data": {
      "image/png": "[encoded data removed]",
      "text/plain": [
       "<Figure size 2160x720 with 2 Axes>"
      ]
     },
     "metadata": {},
     "output_type": "display_data"
    }
   ],
   "source": [
    "# Plot graphic of missing values\n",
    "missingno.matrix(test, figsize = (30,10))"
   ]
  },
  {
   "cell_type": "markdown",
   "metadata": {},
   "source": [
    "#### Include only relevant variables (Since we have limited data, I wanted to exclude things like ID and date so that we could have a reasonable number of features for our models to deal with)"
   ]
  },
  {
   "cell_type": "code",
   "execution_count": 27,
   "metadata": {},
   "outputs": [],
   "source": [
    "df_train = train.copy()"
   ]
  },
  {
   "cell_type": "code",
   "execution_count": 28,
   "metadata": {},
   "outputs": [],
   "source": [
    "df_test= test.copy()"
   ]
  },
  {
   "cell_type": "code",
   "execution_count": 39,
   "metadata": {},
   "outputs": [
    {
     "data": {
      "text/html": [
       "<div>\n",
       "<style scoped>\n",
       "    .dataframe tbody tr th:only-of-type {\n",
       "        vertical-align: middle;\n",
       "    }\n",
       "\n",
       "    .dataframe tbody tr th {\n",
       "        vertical-align: top;\n",
       "    }\n",
       "\n",
       "    .dataframe thead th {\n",
       "        text-align: right;\n",
       "    }\n",
       "</style>\n",
       "<table border=\"1\" class=\"dataframe\">\n",
       "  <thead>\n",
       "    <tr style=\"text-align: right;\">\n",
       "      <th></th>\n",
       "      <th>State_of_Country</th>\n",
       "      <th>Market_Category</th>\n",
       "      <th>Product_Category</th>\n",
       "      <th>Grade</th>\n",
       "      <th>Demand</th>\n",
       "      <th>Low_Cap_Price</th>\n",
       "      <th>High_Cap_Price</th>\n",
       "    </tr>\n",
       "  </thead>\n",
       "  <tbody>\n",
       "    <tr>\n",
       "      <th>0</th>\n",
       "      <td>0</td>\n",
       "      <td>0</td>\n",
       "      <td>0</td>\n",
       "      <td>0</td>\n",
       "      <td>0.5</td>\n",
       "      <td>2785</td>\n",
       "      <td>4240</td>\n",
       "    </tr>\n",
       "    <tr>\n",
       "      <th>1</th>\n",
       "      <td>0</td>\n",
       "      <td>1</td>\n",
       "      <td>0</td>\n",
       "      <td>0</td>\n",
       "      <td>0.7</td>\n",
       "      <td>3574</td>\n",
       "      <td>4756</td>\n",
       "    </tr>\n",
       "    <tr>\n",
       "      <th>2</th>\n",
       "      <td>0</td>\n",
       "      <td>103</td>\n",
       "      <td>0</td>\n",
       "      <td>1</td>\n",
       "      <td>1.6</td>\n",
       "      <td>5978</td>\n",
       "      <td>9669</td>\n",
       "    </tr>\n",
       "    <tr>\n",
       "      <th>3</th>\n",
       "      <td>0</td>\n",
       "      <td>103</td>\n",
       "      <td>0</td>\n",
       "      <td>0</td>\n",
       "      <td>0.0</td>\n",
       "      <td>5681</td>\n",
       "      <td>8313</td>\n",
       "    </tr>\n",
       "    <tr>\n",
       "      <th>4</th>\n",
       "      <td>0</td>\n",
       "      <td>103</td>\n",
       "      <td>0</td>\n",
       "      <td>2</td>\n",
       "      <td>0.0</td>\n",
       "      <td>4924</td>\n",
       "      <td>7257</td>\n",
       "    </tr>\n",
       "    <tr>\n",
       "      <th>...</th>\n",
       "      <td>...</td>\n",
       "      <td>...</td>\n",
       "      <td>...</td>\n",
       "      <td>...</td>\n",
       "      <td>...</td>\n",
       "      <td>...</td>\n",
       "      <td>...</td>\n",
       "    </tr>\n",
       "    <tr>\n",
       "      <th>9793</th>\n",
       "      <td>20</td>\n",
       "      <td>255</td>\n",
       "      <td>0</td>\n",
       "      <td>2</td>\n",
       "      <td>30.4</td>\n",
       "      <td>124</td>\n",
       "      <td>604</td>\n",
       "    </tr>\n",
       "    <tr>\n",
       "      <th>9794</th>\n",
       "      <td>9</td>\n",
       "      <td>60</td>\n",
       "      <td>1</td>\n",
       "      <td>3</td>\n",
       "      <td>1480.0</td>\n",
       "      <td>225</td>\n",
       "      <td>1461</td>\n",
       "    </tr>\n",
       "    <tr>\n",
       "      <th>9795</th>\n",
       "      <td>21</td>\n",
       "      <td>37</td>\n",
       "      <td>1</td>\n",
       "      <td>2</td>\n",
       "      <td>24.4</td>\n",
       "      <td>4721</td>\n",
       "      <td>6637</td>\n",
       "    </tr>\n",
       "    <tr>\n",
       "      <th>9796</th>\n",
       "      <td>21</td>\n",
       "      <td>469</td>\n",
       "      <td>0</td>\n",
       "      <td>0</td>\n",
       "      <td>2.3</td>\n",
       "      <td>5082</td>\n",
       "      <td>6997</td>\n",
       "    </tr>\n",
       "    <tr>\n",
       "      <th>9797</th>\n",
       "      <td>0</td>\n",
       "      <td>3</td>\n",
       "      <td>0</td>\n",
       "      <td>0</td>\n",
       "      <td>0.5</td>\n",
       "      <td>3899</td>\n",
       "      <td>6380</td>\n",
       "    </tr>\n",
       "  </tbody>\n",
       "</table>\n",
       "<p>9798 rows × 7 columns</p>\n",
       "</div>"
      ],
      "text/plain": [
       "      State_of_Country  Market_Category  Product_Category  Grade  Demand  \\\n",
       "0                    0                0                 0      0     0.5   \n",
       "1                    0                1                 0      0     0.7   \n",
       "2                    0              103                 0      1     1.6   \n",
       "3                    0              103                 0      0     0.0   \n",
       "4                    0              103                 0      2     0.0   \n",
       "...                ...              ...               ...    ...     ...   \n",
       "9793                20              255                 0      2    30.4   \n",
       "9794                 9               60                 1      3  1480.0   \n",
       "9795                21               37                 1      2    24.4   \n",
       "9796                21              469                 0      0     2.3   \n",
       "9797                 0                3                 0      0     0.5   \n",
       "\n",
       "      Low_Cap_Price  High_Cap_Price  \n",
       "0              2785            4240  \n",
       "1              3574            4756  \n",
       "2              5978            9669  \n",
       "3              5681            8313  \n",
       "4              4924            7257  \n",
       "...             ...             ...  \n",
       "9793            124             604  \n",
       "9794            225            1461  \n",
       "9795           4721            6637  \n",
       "9796           5082            6997  \n",
       "9797           3899            6380  \n",
       "\n",
       "[9798 rows x 7 columns]"
      ]
     },
     "execution_count": 39,
     "metadata": {},
     "output_type": "execute_result"
    }
   ],
   "source": [
    "df_train"
   ]
  },
  {
   "cell_type": "code",
   "execution_count": 40,
   "metadata": {},
   "outputs": [
    {
     "ename": "KeyError",
     "evalue": "\"['Item_Id' 'Date'] not found in axis\"",
     "output_type": "error",
     "traceback": [
      "\u001b[1;31m---------------------------------------------------------------------------\u001b[0m",
      "\u001b[1;31mKeyError\u001b[0m                                  Traceback (most recent call last)",
      "\u001b[1;32m<ipython-input-40-764a318383c7>\u001b[0m in \u001b[0;36m<module>\u001b[1;34m\u001b[0m\n\u001b[1;32m----> 1\u001b[1;33m \u001b[0mdf_train\u001b[0m\u001b[1;33m.\u001b[0m\u001b[0mdrop\u001b[0m\u001b[1;33m(\u001b[0m\u001b[1;33m[\u001b[0m\u001b[1;34m'Item_Id'\u001b[0m\u001b[1;33m,\u001b[0m\u001b[1;34m'Date'\u001b[0m\u001b[1;33m]\u001b[0m\u001b[1;33m,\u001b[0m\u001b[0maxis\u001b[0m\u001b[1;33m=\u001b[0m\u001b[1;36m1\u001b[0m\u001b[1;33m,\u001b[0m\u001b[0minplace\u001b[0m\u001b[1;33m=\u001b[0m\u001b[1;32mTrue\u001b[0m\u001b[1;33m)\u001b[0m\u001b[1;33m\u001b[0m\u001b[1;33m\u001b[0m\u001b[0m\n\u001b[0m",
      "\u001b[1;32m~\\anaconda3\\lib\\site-packages\\pandas\\core\\frame.py\u001b[0m in \u001b[0;36mdrop\u001b[1;34m(self, labels, axis, index, columns, level, inplace, errors)\u001b[0m\n\u001b[0;32m   3995\u001b[0m             \u001b[0mlevel\u001b[0m\u001b[1;33m=\u001b[0m\u001b[0mlevel\u001b[0m\u001b[1;33m,\u001b[0m\u001b[1;33m\u001b[0m\u001b[1;33m\u001b[0m\u001b[0m\n\u001b[0;32m   3996\u001b[0m             \u001b[0minplace\u001b[0m\u001b[1;33m=\u001b[0m\u001b[0minplace\u001b[0m\u001b[1;33m,\u001b[0m\u001b[1;33m\u001b[0m\u001b[1;33m\u001b[0m\u001b[0m\n\u001b[1;32m-> 3997\u001b[1;33m             \u001b[0merrors\u001b[0m\u001b[1;33m=\u001b[0m\u001b[0merrors\u001b[0m\u001b[1;33m,\u001b[0m\u001b[1;33m\u001b[0m\u001b[1;33m\u001b[0m\u001b[0m\n\u001b[0m\u001b[0;32m   3998\u001b[0m         )\n\u001b[0;32m   3999\u001b[0m \u001b[1;33m\u001b[0m\u001b[0m\n",
      "\u001b[1;32m~\\anaconda3\\lib\\site-packages\\pandas\\core\\generic.py\u001b[0m in \u001b[0;36mdrop\u001b[1;34m(self, labels, axis, index, columns, level, inplace, errors)\u001b[0m\n\u001b[0;32m   3934\u001b[0m         \u001b[1;32mfor\u001b[0m \u001b[0maxis\u001b[0m\u001b[1;33m,\u001b[0m \u001b[0mlabels\u001b[0m \u001b[1;32min\u001b[0m \u001b[0maxes\u001b[0m\u001b[1;33m.\u001b[0m\u001b[0mitems\u001b[0m\u001b[1;33m(\u001b[0m\u001b[1;33m)\u001b[0m\u001b[1;33m:\u001b[0m\u001b[1;33m\u001b[0m\u001b[1;33m\u001b[0m\u001b[0m\n\u001b[0;32m   3935\u001b[0m             \u001b[1;32mif\u001b[0m \u001b[0mlabels\u001b[0m \u001b[1;32mis\u001b[0m \u001b[1;32mnot\u001b[0m \u001b[1;32mNone\u001b[0m\u001b[1;33m:\u001b[0m\u001b[1;33m\u001b[0m\u001b[1;33m\u001b[0m\u001b[0m\n\u001b[1;32m-> 3936\u001b[1;33m                 \u001b[0mobj\u001b[0m \u001b[1;33m=\u001b[0m \u001b[0mobj\u001b[0m\u001b[1;33m.\u001b[0m\u001b[0m_drop_axis\u001b[0m\u001b[1;33m(\u001b[0m\u001b[0mlabels\u001b[0m\u001b[1;33m,\u001b[0m \u001b[0maxis\u001b[0m\u001b[1;33m,\u001b[0m \u001b[0mlevel\u001b[0m\u001b[1;33m=\u001b[0m\u001b[0mlevel\u001b[0m\u001b[1;33m,\u001b[0m \u001b[0merrors\u001b[0m\u001b[1;33m=\u001b[0m\u001b[0merrors\u001b[0m\u001b[1;33m)\u001b[0m\u001b[1;33m\u001b[0m\u001b[1;33m\u001b[0m\u001b[0m\n\u001b[0m\u001b[0;32m   3937\u001b[0m \u001b[1;33m\u001b[0m\u001b[0m\n\u001b[0;32m   3938\u001b[0m         \u001b[1;32mif\u001b[0m \u001b[0minplace\u001b[0m\u001b[1;33m:\u001b[0m\u001b[1;33m\u001b[0m\u001b[1;33m\u001b[0m\u001b[0m\n",
      "\u001b[1;32m~\\anaconda3\\lib\\site-packages\\pandas\\core\\generic.py\u001b[0m in \u001b[0;36m_drop_axis\u001b[1;34m(self, labels, axis, level, errors)\u001b[0m\n\u001b[0;32m   3968\u001b[0m                 \u001b[0mnew_axis\u001b[0m \u001b[1;33m=\u001b[0m \u001b[0maxis\u001b[0m\u001b[1;33m.\u001b[0m\u001b[0mdrop\u001b[0m\u001b[1;33m(\u001b[0m\u001b[0mlabels\u001b[0m\u001b[1;33m,\u001b[0m \u001b[0mlevel\u001b[0m\u001b[1;33m=\u001b[0m\u001b[0mlevel\u001b[0m\u001b[1;33m,\u001b[0m \u001b[0merrors\u001b[0m\u001b[1;33m=\u001b[0m\u001b[0merrors\u001b[0m\u001b[1;33m)\u001b[0m\u001b[1;33m\u001b[0m\u001b[1;33m\u001b[0m\u001b[0m\n\u001b[0;32m   3969\u001b[0m             \u001b[1;32melse\u001b[0m\u001b[1;33m:\u001b[0m\u001b[1;33m\u001b[0m\u001b[1;33m\u001b[0m\u001b[0m\n\u001b[1;32m-> 3970\u001b[1;33m                 \u001b[0mnew_axis\u001b[0m \u001b[1;33m=\u001b[0m \u001b[0maxis\u001b[0m\u001b[1;33m.\u001b[0m\u001b[0mdrop\u001b[0m\u001b[1;33m(\u001b[0m\u001b[0mlabels\u001b[0m\u001b[1;33m,\u001b[0m \u001b[0merrors\u001b[0m\u001b[1;33m=\u001b[0m\u001b[0merrors\u001b[0m\u001b[1;33m)\u001b[0m\u001b[1;33m\u001b[0m\u001b[1;33m\u001b[0m\u001b[0m\n\u001b[0m\u001b[0;32m   3971\u001b[0m             \u001b[0mresult\u001b[0m \u001b[1;33m=\u001b[0m \u001b[0mself\u001b[0m\u001b[1;33m.\u001b[0m\u001b[0mreindex\u001b[0m\u001b[1;33m(\u001b[0m\u001b[1;33m**\u001b[0m\u001b[1;33m{\u001b[0m\u001b[0maxis_name\u001b[0m\u001b[1;33m:\u001b[0m \u001b[0mnew_axis\u001b[0m\u001b[1;33m}\u001b[0m\u001b[1;33m)\u001b[0m\u001b[1;33m\u001b[0m\u001b[1;33m\u001b[0m\u001b[0m\n\u001b[0;32m   3972\u001b[0m \u001b[1;33m\u001b[0m\u001b[0m\n",
      "\u001b[1;32m~\\anaconda3\\lib\\site-packages\\pandas\\core\\indexes\\base.py\u001b[0m in \u001b[0;36mdrop\u001b[1;34m(self, labels, errors)\u001b[0m\n\u001b[0;32m   5016\u001b[0m         \u001b[1;32mif\u001b[0m \u001b[0mmask\u001b[0m\u001b[1;33m.\u001b[0m\u001b[0many\u001b[0m\u001b[1;33m(\u001b[0m\u001b[1;33m)\u001b[0m\u001b[1;33m:\u001b[0m\u001b[1;33m\u001b[0m\u001b[1;33m\u001b[0m\u001b[0m\n\u001b[0;32m   5017\u001b[0m             \u001b[1;32mif\u001b[0m \u001b[0merrors\u001b[0m \u001b[1;33m!=\u001b[0m \u001b[1;34m\"ignore\"\u001b[0m\u001b[1;33m:\u001b[0m\u001b[1;33m\u001b[0m\u001b[1;33m\u001b[0m\u001b[0m\n\u001b[1;32m-> 5018\u001b[1;33m                 \u001b[1;32mraise\u001b[0m \u001b[0mKeyError\u001b[0m\u001b[1;33m(\u001b[0m\u001b[1;34mf\"{labels[mask]} not found in axis\"\u001b[0m\u001b[1;33m)\u001b[0m\u001b[1;33m\u001b[0m\u001b[1;33m\u001b[0m\u001b[0m\n\u001b[0m\u001b[0;32m   5019\u001b[0m             \u001b[0mindexer\u001b[0m \u001b[1;33m=\u001b[0m \u001b[0mindexer\u001b[0m\u001b[1;33m[\u001b[0m\u001b[1;33m~\u001b[0m\u001b[0mmask\u001b[0m\u001b[1;33m]\u001b[0m\u001b[1;33m\u001b[0m\u001b[1;33m\u001b[0m\u001b[0m\n\u001b[0;32m   5020\u001b[0m         \u001b[1;32mreturn\u001b[0m \u001b[0mself\u001b[0m\u001b[1;33m.\u001b[0m\u001b[0mdelete\u001b[0m\u001b[1;33m(\u001b[0m\u001b[0mindexer\u001b[0m\u001b[1;33m)\u001b[0m\u001b[1;33m\u001b[0m\u001b[1;33m\u001b[0m\u001b[0m\n",
      "\u001b[1;31mKeyError\u001b[0m: \"['Item_Id' 'Date'] not found in axis\""
     ]
    }
   ],
   "source": [
    "df_train.drop(['Item_Id','Date'],axis=1,inplace=True)"
   ]
  },
  {
   "cell_type": "code",
   "execution_count": 31,
   "metadata": {},
   "outputs": [],
   "source": [
    "df_test.drop(['Item_Id','Date'],axis=1,inplace=True)"
   ]
  },
  {
   "cell_type": "code",
   "execution_count": 38,
   "metadata": {},
   "outputs": [
    {
     "data": {
      "text/plain": [
       "0          0.5\n",
       "1          0.7\n",
       "2          1.6\n",
       "3          0.0\n",
       "4          0.0\n",
       "         ...  \n",
       "9793      30.4\n",
       "9794    1480.0\n",
       "9795      24.4\n",
       "9796       2.3\n",
       "9797       0.5\n",
       "Name: Demand, Length: 9798, dtype: float64"
      ]
     },
     "execution_count": 38,
     "metadata": {},
     "output_type": "execute_result"
    }
   ],
   "source": [
    "df_train.Demand"
   ]
  },
  {
   "cell_type": "markdown",
   "metadata": {},
   "source": [
    "## Start Building Machine Learning Models\n"
   ]
  },
  {
   "cell_type": "markdown",
   "metadata": {},
   "source": [
    "### Let's seperate the data"
   ]
  },
  {
   "cell_type": "code",
   "execution_count": 45,
   "metadata": {},
   "outputs": [],
   "source": [
    "# Split the dataframe into data and labels\n",
    "X_train = df_train.drop('Low_Cap_Price', axis=1) # data\n",
    "y_train = df_train['Low_Cap_Price'] # labels\n",
    "X_test = df_test"
   ]
  },
  {
   "cell_type": "code",
   "execution_count": 46,
   "metadata": {
    "scrolled": true
   },
   "outputs": [
    {
     "data": {
      "text/plain": [
       "(9798, 6)"
      ]
     },
     "execution_count": 46,
     "metadata": {},
     "output_type": "execute_result"
    }
   ],
   "source": [
    "# Shape of the data (without labels)\n",
    "X_train.shape"
   ]
  },
  {
   "cell_type": "code",
   "execution_count": 47,
   "metadata": {},
   "outputs": [
    {
     "data": {
      "text/plain": [
       "(9798,)"
      ]
     },
     "execution_count": 47,
     "metadata": {},
     "output_type": "execute_result"
    }
   ],
   "source": [
    "# Shape of the labels\n",
    "y_train.shape"
   ]
  },
  {
   "cell_type": "code",
   "execution_count": 48,
   "metadata": {},
   "outputs": [
    {
     "data": {
      "text/plain": [
       "(5763, 6)"
      ]
     },
     "execution_count": 48,
     "metadata": {},
     "output_type": "execute_result"
    }
   ],
   "source": [
    "# Shape of the test data\n",
    "X_test.shape"
   ]
  },
  {
   "cell_type": "code",
   "execution_count": 49,
   "metadata": {
    "scrolled": true
   },
   "outputs": [
    {
     "data": {
      "text/html": [
       "<div>\n",
       "<style scoped>\n",
       "    .dataframe tbody tr th:only-of-type {\n",
       "        vertical-align: middle;\n",
       "    }\n",
       "\n",
       "    .dataframe tbody tr th {\n",
       "        vertical-align: top;\n",
       "    }\n",
       "\n",
       "    .dataframe thead th {\n",
       "        text-align: right;\n",
       "    }\n",
       "</style>\n",
       "<table border=\"1\" class=\"dataframe\">\n",
       "  <thead>\n",
       "    <tr style=\"text-align: right;\">\n",
       "      <th></th>\n",
       "      <th>State_of_Country</th>\n",
       "      <th>Market_Category</th>\n",
       "      <th>Product_Category</th>\n",
       "      <th>Grade</th>\n",
       "      <th>Demand</th>\n",
       "      <th>High_Cap_Price</th>\n",
       "    </tr>\n",
       "  </thead>\n",
       "  <tbody>\n",
       "    <tr>\n",
       "      <th>0</th>\n",
       "      <td>0</td>\n",
       "      <td>0</td>\n",
       "      <td>0</td>\n",
       "      <td>0</td>\n",
       "      <td>0.5</td>\n",
       "      <td>4240</td>\n",
       "    </tr>\n",
       "    <tr>\n",
       "      <th>1</th>\n",
       "      <td>0</td>\n",
       "      <td>1</td>\n",
       "      <td>0</td>\n",
       "      <td>0</td>\n",
       "      <td>0.7</td>\n",
       "      <td>4756</td>\n",
       "    </tr>\n",
       "    <tr>\n",
       "      <th>2</th>\n",
       "      <td>0</td>\n",
       "      <td>103</td>\n",
       "      <td>0</td>\n",
       "      <td>1</td>\n",
       "      <td>1.6</td>\n",
       "      <td>9669</td>\n",
       "    </tr>\n",
       "    <tr>\n",
       "      <th>3</th>\n",
       "      <td>0</td>\n",
       "      <td>103</td>\n",
       "      <td>0</td>\n",
       "      <td>0</td>\n",
       "      <td>0.0</td>\n",
       "      <td>8313</td>\n",
       "    </tr>\n",
       "    <tr>\n",
       "      <th>4</th>\n",
       "      <td>0</td>\n",
       "      <td>103</td>\n",
       "      <td>0</td>\n",
       "      <td>2</td>\n",
       "      <td>0.0</td>\n",
       "      <td>7257</td>\n",
       "    </tr>\n",
       "  </tbody>\n",
       "</table>\n",
       "</div>"
      ],
      "text/plain": [
       "   State_of_Country  Market_Category  Product_Category  Grade  Demand  \\\n",
       "0                 0                0                 0      0     0.5   \n",
       "1                 0                1                 0      0     0.7   \n",
       "2                 0              103                 0      1     1.6   \n",
       "3                 0              103                 0      0     0.0   \n",
       "4                 0              103                 0      2     0.0   \n",
       "\n",
       "   High_Cap_Price  \n",
       "0            4240  \n",
       "1            4756  \n",
       "2            9669  \n",
       "3            8313  \n",
       "4            7257  "
      ]
     },
     "execution_count": 49,
     "metadata": {},
     "output_type": "execute_result"
    }
   ],
   "source": [
    "X_train.head()"
   ]
  },
  {
   "cell_type": "code",
   "execution_count": 50,
   "metadata": {},
   "outputs": [],
   "source": [
    "from sklearn.model_selection import cross_val_score\n",
    "from sklearn.model_selection import KFold\n",
    "from sklearn.preprocessing import StandardScaler\n",
    "from sklearn.pipeline import Pipeline\n",
    "\n",
    "from sklearn import model_selection, tree, preprocessing, metrics, linear_model\n",
    "\n",
    "from sklearn.linear_model import LinearRegression,Lasso,Ridge\n",
    "from sklearn.tree import DecisionTreeRegressor\n",
    "from sklearn.neighbors import KNeighborsRegressor\n",
    "from sklearn.ensemble import GradientBoostingRegressor,RandomForestRegressor\n",
    "from sklearn.svm import SVR"
   ]
  },
  {
   "cell_type": "markdown",
   "metadata": {},
   "source": [
    "### Building the Pipeline\n",
    "\n",
    "The first step in building the pipeline is to define each transformer type. The convention here is generally to create transformers for the different variable types. In the code below I have created a numeric transformer which applies a StandardScaler, and includes a SimpleImputer to fill in any missing values.\n",
    "\n",
    "We are building a basic pipeline with two steps,\n",
    "\n",
    "* Normalize numerical features with StandardScaler()\n",
    "* Run the Regressor\n",
    "\n",
    "\n",
    "Trying out the following classification algorithms\n",
    "\n",
    "* Linear Regression\n",
    "* Lasso\n",
    "* Ridge\n",
    "* K-nearest Regressor\n",
    "* Decision Tree Regressor\n",
    "* Random Forest Regressor\n",
    "* Gradient Boosting Regressor\n",
    "* SVR"
   ]
  },
  {
   "cell_type": "code",
   "execution_count": 54,
   "metadata": {},
   "outputs": [
    {
     "name": "stdout",
     "output_type": "stream",
     "text": [
      "ScaledLR: -1931634.600537 (1309303.073528)\n",
      "ScaledLASSO: -1931662.115227 (1309233.638304)\n",
      "ScaledRIDGE: -1931632.270785 (1309213.210651)\n",
      "ScaledKNN: -1673682.773732 (1267060.160901)\n",
      "ScaledDT: -1752500.612343 (1196230.638548)\n",
      "ScaledGBM: -1106514.273912 (856100.749137)\n",
      "ScaledRF: -1041171.708159 (772658.814157)\n",
      "ScaledSVR: -4074907.798661 (2490061.970915)\n"
     ]
    }
   ],
   "source": [
    "pipelines = []\n",
    "pipelines.append(('ScaledLR', Pipeline([('Scaler', StandardScaler()),('LR',LinearRegression())])))\n",
    "pipelines.append(('ScaledLASSO', Pipeline([('Scaler', StandardScaler()),('LASSO', Lasso())])))\n",
    "pipelines.append(('ScaledRIDGE', Pipeline([('Scaler', StandardScaler()),('RIDGE',Ridge())])))\n",
    "pipelines.append(('ScaledKNN', Pipeline([('Scaler', StandardScaler()),('KNN', KNeighborsRegressor())])))\n",
    "pipelines.append(('ScaledDT', Pipeline([('Scaler', StandardScaler()),('DT', DecisionTreeRegressor())])))\n",
    "pipelines.append(('ScaledGBM', Pipeline([('Scaler', StandardScaler()),('GBM', GradientBoostingRegressor())])))\n",
    "pipelines.append(('ScaledRF', Pipeline([('Scaler', StandardScaler()),('RF',RandomForestRegressor())])))\n",
    "pipelines.append(('ScaledSVR', Pipeline([('Scaler', StandardScaler()),('SVR',SVR())])))\n",
    "\n",
    "\n",
    "\n",
    "results = []\n",
    "names = []\n",
    "for name, model in pipelines:\n",
    "    kfold = KFold(n_splits=10, random_state=21)\n",
    "    cv_results = cross_val_score(model, X_train, y_train, cv=kfold, scoring='neg_mean_squared_error')\n",
    "    results.append(cv_results)\n",
    "    names.append(name)\n",
    "    msg = \"%s: %f (%f)\" % (name, cv_results.mean(), cv_results.std())\n",
    "    print(msg)"
   ]
  },
  {
   "cell_type": "code",
   "execution_count": 55,
   "metadata": {},
   "outputs": [
    {
     "name": "stdout",
     "output_type": "stream",
     "text": [
      "-786263.394549 (107307.108659) with: {'bootstrap': True, 'max_features': 'auto', 'min_samples_split': 2, 'n_estimators': 100}\n",
      "-783048.779158 (105322.515179) with: {'bootstrap': True, 'max_features': 'auto', 'min_samples_split': 2, 'n_estimators': 200}\n",
      "-780565.244946 (110366.929000) with: {'bootstrap': True, 'max_features': 'auto', 'min_samples_split': 2, 'n_estimators': 300}\n",
      "-767817.734859 (107575.139074) with: {'bootstrap': True, 'max_features': 'auto', 'min_samples_split': 4, 'n_estimators': 100}\n",
      "-770444.728520 (109674.242273) with: {'bootstrap': True, 'max_features': 'auto', 'min_samples_split': 4, 'n_estimators': 200}\n",
      "-764977.458720 (110590.050177) with: {'bootstrap': True, 'max_features': 'auto', 'min_samples_split': 4, 'n_estimators': 300}\n",
      "-752443.721808 (108128.952278) with: {'bootstrap': True, 'max_features': 'auto', 'min_samples_split': 8, 'n_estimators': 100}\n",
      "-756068.243174 (106015.261573) with: {'bootstrap': True, 'max_features': 'auto', 'min_samples_split': 8, 'n_estimators': 200}\n",
      "-754009.287433 (107618.733481) with: {'bootstrap': True, 'max_features': 'auto', 'min_samples_split': 8, 'n_estimators': 300}\n",
      "-726876.537324 (94923.945492) with: {'bootstrap': True, 'max_features': 'sqrt', 'min_samples_split': 2, 'n_estimators': 100}\n",
      "-731459.307802 (99779.841167) with: {'bootstrap': True, 'max_features': 'sqrt', 'min_samples_split': 2, 'n_estimators': 200}\n",
      "-731407.755300 (93886.720503) with: {'bootstrap': True, 'max_features': 'sqrt', 'min_samples_split': 2, 'n_estimators': 300}\n",
      "-715006.718646 (98084.530888) with: {'bootstrap': True, 'max_features': 'sqrt', 'min_samples_split': 4, 'n_estimators': 100}\n",
      "-715871.828073 (104396.859471) with: {'bootstrap': True, 'max_features': 'sqrt', 'min_samples_split': 4, 'n_estimators': 200}\n",
      "-706866.407693 (100166.798801) with: {'bootstrap': True, 'max_features': 'sqrt', 'min_samples_split': 4, 'n_estimators': 300}\n",
      "-702362.765886 (93723.767204) with: {'bootstrap': True, 'max_features': 'sqrt', 'min_samples_split': 8, 'n_estimators': 100}\n",
      "-705015.107157 (103386.896672) with: {'bootstrap': True, 'max_features': 'sqrt', 'min_samples_split': 8, 'n_estimators': 200}\n",
      "-696228.032920 (101439.774957) with: {'bootstrap': True, 'max_features': 'sqrt', 'min_samples_split': 8, 'n_estimators': 300}\n",
      "-733431.168508 (86639.664543) with: {'bootstrap': True, 'max_features': 'log2', 'min_samples_split': 2, 'n_estimators': 100}\n",
      "-728920.851699 (93869.758618) with: {'bootstrap': True, 'max_features': 'log2', 'min_samples_split': 2, 'n_estimators': 200}\n",
      "-727209.261227 (97527.989251) with: {'bootstrap': True, 'max_features': 'log2', 'min_samples_split': 2, 'n_estimators': 300}\n",
      "-715661.508384 (100397.784465) with: {'bootstrap': True, 'max_features': 'log2', 'min_samples_split': 4, 'n_estimators': 100}\n",
      "-708088.864140 (98862.982069) with: {'bootstrap': True, 'max_features': 'log2', 'min_samples_split': 4, 'n_estimators': 200}\n",
      "-708425.382694 (99425.425102) with: {'bootstrap': True, 'max_features': 'log2', 'min_samples_split': 4, 'n_estimators': 300}\n",
      "-708012.109753 (104351.304677) with: {'bootstrap': True, 'max_features': 'log2', 'min_samples_split': 8, 'n_estimators': 100}\n",
      "-701162.584458 (103462.383248) with: {'bootstrap': True, 'max_features': 'log2', 'min_samples_split': 8, 'n_estimators': 200}\n",
      "-699293.556099 (104246.017139) with: {'bootstrap': True, 'max_features': 'log2', 'min_samples_split': 8, 'n_estimators': 300}\n",
      "-1300050.246179 (153810.550866) with: {'bootstrap': False, 'max_features': 'auto', 'min_samples_split': 2, 'n_estimators': 100}\n",
      "-1297043.246226 (156361.927455) with: {'bootstrap': False, 'max_features': 'auto', 'min_samples_split': 2, 'n_estimators': 200}\n",
      "-1297920.605849 (154907.487008) with: {'bootstrap': False, 'max_features': 'auto', 'min_samples_split': 2, 'n_estimators': 300}\n",
      "-1253374.520044 (151898.825231) with: {'bootstrap': False, 'max_features': 'auto', 'min_samples_split': 4, 'n_estimators': 100}\n",
      "-1252423.230099 (151916.171827) with: {'bootstrap': False, 'max_features': 'auto', 'min_samples_split': 4, 'n_estimators': 200}\n",
      "-1252349.111735 (153009.781928) with: {'bootstrap': False, 'max_features': 'auto', 'min_samples_split': 4, 'n_estimators': 300}\n",
      "-1132369.863904 (148415.361923) with: {'bootstrap': False, 'max_features': 'auto', 'min_samples_split': 8, 'n_estimators': 100}\n",
      "-1132130.848224 (147968.083164) with: {'bootstrap': False, 'max_features': 'auto', 'min_samples_split': 8, 'n_estimators': 200}\n",
      "-1132134.934414 (148074.657867) with: {'bootstrap': False, 'max_features': 'auto', 'min_samples_split': 8, 'n_estimators': 300}\n",
      "-823789.042261 (93011.463093) with: {'bootstrap': False, 'max_features': 'sqrt', 'min_samples_split': 2, 'n_estimators': 100}\n",
      "-820964.699727 (91829.403791) with: {'bootstrap': False, 'max_features': 'sqrt', 'min_samples_split': 2, 'n_estimators': 200}\n",
      "-819317.582132 (91229.009890) with: {'bootstrap': False, 'max_features': 'sqrt', 'min_samples_split': 2, 'n_estimators': 300}\n",
      "-772072.223980 (111576.487840) with: {'bootstrap': False, 'max_features': 'sqrt', 'min_samples_split': 4, 'n_estimators': 100}\n",
      "-763030.950563 (107963.326440) with: {'bootstrap': False, 'max_features': 'sqrt', 'min_samples_split': 4, 'n_estimators': 200}\n",
      "-766140.328326 (108400.442200) with: {'bootstrap': False, 'max_features': 'sqrt', 'min_samples_split': 4, 'n_estimators': 300}\n",
      "-720967.078361 (106842.497553) with: {'bootstrap': False, 'max_features': 'sqrt', 'min_samples_split': 8, 'n_estimators': 100}\n",
      "-725595.193217 (106417.093041) with: {'bootstrap': False, 'max_features': 'sqrt', 'min_samples_split': 8, 'n_estimators': 200}\n",
      "-723756.097919 (104645.129422) with: {'bootstrap': False, 'max_features': 'sqrt', 'min_samples_split': 8, 'n_estimators': 300}\n",
      "-814748.384638 (95963.868548) with: {'bootstrap': False, 'max_features': 'log2', 'min_samples_split': 2, 'n_estimators': 100}\n",
      "-820828.607179 (92741.956559) with: {'bootstrap': False, 'max_features': 'log2', 'min_samples_split': 2, 'n_estimators': 200}\n",
      "-818156.773469 (93676.127875) with: {'bootstrap': False, 'max_features': 'log2', 'min_samples_split': 2, 'n_estimators': 300}\n",
      "-767591.034371 (107624.854314) with: {'bootstrap': False, 'max_features': 'log2', 'min_samples_split': 4, 'n_estimators': 100}\n",
      "-763877.438320 (105949.433203) with: {'bootstrap': False, 'max_features': 'log2', 'min_samples_split': 4, 'n_estimators': 200}\n",
      "-761449.734840 (104457.179258) with: {'bootstrap': False, 'max_features': 'log2', 'min_samples_split': 4, 'n_estimators': 300}\n",
      "-727081.780679 (110439.267547) with: {'bootstrap': False, 'max_features': 'log2', 'min_samples_split': 8, 'n_estimators': 100}\n",
      "-723676.777657 (106412.700598) with: {'bootstrap': False, 'max_features': 'log2', 'min_samples_split': 8, 'n_estimators': 200}\n",
      "-721787.970345 (104900.804378) with: {'bootstrap': False, 'max_features': 'log2', 'min_samples_split': 8, 'n_estimators': 300}\n",
      "Best: -696228.032920 using {'bootstrap': True, 'max_features': 'sqrt', 'min_samples_split': 8, 'n_estimators': 300}\n"
     ]
    }
   ],
   "source": [
    "from sklearn.model_selection import GridSearchCV\n",
    "\n",
    "scaler = StandardScaler().fit(X_train)\n",
    "rescaledX = scaler.transform(X_train)\n",
    "param_grid = { \n",
    "            \"n_estimators\"      : [100,200,300],\n",
    "            \"max_features\"      : [\"auto\", \"sqrt\", \"log2\"],\n",
    "            \"min_samples_split\" : [2,4,8],\n",
    "            \"bootstrap\": [True, False],\n",
    "            }\n",
    "model =RandomForestRegressor()\n",
    "kfold =KFold(n_splits=10, random_state=21,shuffle=True)\n",
    "grid = GridSearchCV(estimator=model, param_grid=param_grid,n_jobs=-1, scoring='neg_mean_squared_error', cv=kfold)\n",
    "grid_result = grid.fit(rescaledX, y_train)\n",
    "\n",
    "means = grid_result.cv_results_['mean_test_score']\n",
    "stds = grid_result.cv_results_['std_test_score']\n",
    "params = grid_result.cv_results_['params']\n",
    "for mean, stdev, param in zip(means, stds, params):\n",
    "    print(\"%f (%f) with: %r\" % (mean, stdev, param))\n",
    "\n",
    "print(\"Best: %f using %s\" % (grid_result.best_score_, grid_result.best_params_))"
   ]
  },
  {
   "cell_type": "code",
   "execution_count": 56,
   "metadata": {},
   "outputs": [
    {
     "data": {
      "text/plain": [
       "RandomForestRegressor(max_features='sqrt', min_samples_split=8,\n",
       "                      n_estimators=300)"
      ]
     },
     "execution_count": 56,
     "metadata": {},
     "output_type": "execute_result"
    }
   ],
   "source": [
    "grid_result.best_estimator_"
   ]
  },
  {
   "cell_type": "code",
   "execution_count": 59,
   "metadata": {},
   "outputs": [],
   "source": [
    "scaler = StandardScaler().fit(X_train)\n",
    "rescaled_X_train = scaler.transform(X_train)\n",
    "\n",
    "fin_model = RandomForestRegressor(max_features='sqrt', min_samples_split=8,\n",
    "                      n_estimators=300)\n",
    "\n",
    "fin_model.fit(rescaled_X_train, y_train)\n",
    "\n",
    "# transform the validation dataset\n",
    "rescaled_X_test = scaler.transform(X_test)\n",
    "predictions = fin_model.predict(rescaled_X_test)"
   ]
  },
  {
   "cell_type": "code",
   "execution_count": 60,
   "metadata": {
    "scrolled": true
   },
   "outputs": [
    {
     "data": {
      "text/html": [
       "<div>\n",
       "<style scoped>\n",
       "    .dataframe tbody tr th:only-of-type {\n",
       "        vertical-align: middle;\n",
       "    }\n",
       "\n",
       "    .dataframe tbody tr th {\n",
       "        vertical-align: top;\n",
       "    }\n",
       "\n",
       "    .dataframe thead th {\n",
       "        text-align: right;\n",
       "    }\n",
       "</style>\n",
       "<table border=\"1\" class=\"dataframe\">\n",
       "  <thead>\n",
       "    <tr style=\"text-align: right;\">\n",
       "      <th></th>\n",
       "      <th>Item_Id</th>\n",
       "      <th>Low_Cap_Price</th>\n",
       "    </tr>\n",
       "  </thead>\n",
       "  <tbody>\n",
       "    <tr>\n",
       "      <th>0</th>\n",
       "      <td>IT_265079</td>\n",
       "      <td>3672.980428</td>\n",
       "    </tr>\n",
       "    <tr>\n",
       "      <th>1</th>\n",
       "      <td>IT_265087</td>\n",
       "      <td>2607.264687</td>\n",
       "    </tr>\n",
       "    <tr>\n",
       "      <th>2</th>\n",
       "      <td>IT_265107</td>\n",
       "      <td>4679.711229</td>\n",
       "    </tr>\n",
       "    <tr>\n",
       "      <th>3</th>\n",
       "      <td>IT_265139</td>\n",
       "      <td>7258.529993</td>\n",
       "    </tr>\n",
       "    <tr>\n",
       "      <th>4</th>\n",
       "      <td>IT_265142</td>\n",
       "      <td>1797.385595</td>\n",
       "    </tr>\n",
       "  </tbody>\n",
       "</table>\n",
       "</div>"
      ],
      "text/plain": [
       "     Item_Id  Low_Cap_Price\n",
       "0  IT_265079    3672.980428\n",
       "1  IT_265087    2607.264687\n",
       "2  IT_265107    4679.711229\n",
       "3  IT_265139    7258.529993\n",
       "4  IT_265142    1797.385595"
      ]
     },
     "execution_count": 60,
     "metadata": {},
     "output_type": "execute_result"
    }
   ],
   "source": [
    "# Create a submisison dataframe and append the relevant columns\n",
    "submission = pd.DataFrame()\n",
    "submission['Item_Id']=test['Item_Id']\n",
    "submission['Low_Cap_Price'] = predictions # our model predictions on the test dataset\n",
    "submission.head()"
   ]
  },
  {
   "cell_type": "code",
   "execution_count": 61,
   "metadata": {},
   "outputs": [
    {
     "name": "stdout",
     "output_type": "stream",
     "text": [
      "Submission CSV is ready!\n"
     ]
    }
   ],
   "source": [
    "# Convert submisison dataframe to csv for submission to csv \n",
    "# for HackerEarth submisison\n",
    "submission.to_csv('rf1_submission.csv', index=False)\n",
    "print('Submission CSV is ready!')"
   ]
  },
  {
   "cell_type": "markdown",
   "metadata": {},
   "source": [
    "## Feature Importance\n",
    "\n",
    "Which features of the best model were most important for making predictions?"
   ]
  },
  {
   "cell_type": "code",
   "execution_count": 62,
   "metadata": {},
   "outputs": [
    {
     "data": {
      "image/png": "[encoded data removed]",
      "text/plain": [
       "<Figure size 1440x720 with 1 Axes>"
      ]
     },
     "metadata": {},
     "output_type": "display_data"
    }
   ],
   "source": [
    "#Feature Importance\n",
    "def feature_importance(model, data):\n",
    "    \n",
    "    fea_imp = pd.DataFrame({'imp': fin_model.feature_importances_, 'col': data.columns})\n",
    "    fea_imp = fea_imp.sort_values(['imp', 'col'], ascending=[True,False]).iloc[-30:]\n",
    "    _ = fea_imp.plot(kind='barh', x='col', y='imp', figsize=(20, 10))\n",
    "    return fea_imp\n",
    "\n",
    "# Plot the feature importance scores\n",
    "feature_importances = feature_importance(model, X_train)"
   ]
  },
  {
   "cell_type": "code",
   "execution_count": 64,
   "metadata": {
    "scrolled": false
   },
   "outputs": [],
   "source": [
    "feature_importances = feature_importances.sort_values(['imp'],ascending=False)"
   ]
  },
  {
   "cell_type": "code",
   "execution_count": 65,
   "metadata": {},
   "outputs": [
    {
     "data": {
      "image/png": "[encoded data removed]",
      "text/plain": [
       "<Figure size 1440x720 with 1 Axes>"
      ]
     },
     "metadata": {},
     "output_type": "display_data"
    }
   ],
   "source": [
    "# list of x locations for plotting\n",
    "x_values = list(range(len(feature_importances.imp)))# Make a bar chart\n",
    "fig = plt.figure(figsize=(20,10))\n",
    "plt.bar(x_values, feature_importances.imp, orientation = 'vertical', color = 'r', edgecolor = 'k', linewidth = 1.2)# Tick labels for x axis\n",
    "plt.xticks(x_values, feature_importances.col, rotation='vertical')# Axis labels and title\n",
    "plt.ylabel('Importance'); plt.xlabel('Variable'); plt.title('Variable Importances');"
   ]
  },
  {
   "cell_type": "code",
   "execution_count": 66,
   "metadata": {
    "scrolled": false
   },
   "outputs": [
    {
     "data": {
      "image/png": "[encoded data removed]",
      "text/plain": [
       "<Figure size 1440x720 with 1 Axes>"
      ]
     },
     "metadata": {},
     "output_type": "display_data"
    }
   ],
   "source": [
    "# List of features sorted from most to least important\n",
    "\n",
    "sorted_importances = [importance for importance in feature_importances.imp]\n",
    "\n",
    "sorted_features = [importance for importance in feature_importances.col]# Cumulative importances\n",
    "\n",
    "\n",
    "cumulative_importances = np.cumsum(sorted_importances)# Make a line graph\n",
    "fig = plt.figure(figsize=(20,10))\n",
    "plt.plot(x_values, cumulative_importances, 'g-')# Draw line at 90% of importance retained\n",
    "\n",
    "plt.hlines(y = 0.90, xmin=0, xmax=len(sorted_importances), color = 'r', linestyles = 'dashed')# Format x ticks and labels\n",
    "\n",
    "plt.xticks(x_values, sorted_features, rotation = 'vertical')# Axis labels and title\n",
    "\n",
    "plt.xlabel('Variable'); plt.ylabel('Cumulative Importance'); plt.title('Cumulative Importances');"
   ]
  },
  {
   "cell_type": "markdown",
   "metadata": {},
   "source": [
    "We now use this to remove unimportant features. 90% is an arbitrary threshold, but if it leads to noticeably poor performance we can adjust the value. First, we need to find the exact number of features to exceed 90% importance:"
   ]
  },
  {
   "cell_type": "code",
   "execution_count": 67,
   "metadata": {},
   "outputs": [
    {
     "name": "stdout",
     "output_type": "stream",
     "text": [
      "Number of features for 90% importance: 4\n"
     ]
    }
   ],
   "source": [
    "# Find number of features for cumulative importance of 90%\n",
    "# Add 1 because Python is zero-indexed\n",
    "print('Number of features for 90% importance:', np.where(cumulative_importances > 0.90)[0][0] + 1)"
   ]
  },
  {
   "cell_type": "code",
   "execution_count": 68,
   "metadata": {},
   "outputs": [
    {
     "name": "stdout",
     "output_type": "stream",
     "text": [
      "Important train features shape: (9798, 6)\n",
      "Important test features shape: (5763, 6)\n"
     ]
    }
   ],
   "source": [
    "# Extract the names of the most important features\n",
    "important_feature_names = [feature for feature in feature_importances.col[:6]]\n",
    "\n",
    "\n",
    "important_train_features = X_train[important_feature_names]\n",
    "important_test_features = X_test[important_feature_names]# Sanity check on operations\n",
    "print('Important train features shape:', important_train_features.shape)\n",
    "print('Important test features shape:', important_test_features.shape)"
   ]
  },
  {
   "cell_type": "code",
   "execution_count": 69,
   "metadata": {},
   "outputs": [],
   "source": [
    "# Train the expanded model on only the important features\n",
    "fin_model.fit(important_train_features, y_train)\n",
    "# Make predictions on test data\n",
    "final_predictions = fin_model.predict(important_test_features)"
   ]
  },
  {
   "cell_type": "code",
   "execution_count": 70,
   "metadata": {},
   "outputs": [
    {
     "data": {
      "text/html": [
       "<div>\n",
       "<style scoped>\n",
       "    .dataframe tbody tr th:only-of-type {\n",
       "        vertical-align: middle;\n",
       "    }\n",
       "\n",
       "    .dataframe tbody tr th {\n",
       "        vertical-align: top;\n",
       "    }\n",
       "\n",
       "    .dataframe thead th {\n",
       "        text-align: right;\n",
       "    }\n",
       "</style>\n",
       "<table border=\"1\" class=\"dataframe\">\n",
       "  <thead>\n",
       "    <tr style=\"text-align: right;\">\n",
       "      <th></th>\n",
       "      <th>Item_Id</th>\n",
       "      <th>Low_Cap_Price</th>\n",
       "    </tr>\n",
       "  </thead>\n",
       "  <tbody>\n",
       "    <tr>\n",
       "      <th>0</th>\n",
       "      <td>IT_265079</td>\n",
       "      <td>3672.980428</td>\n",
       "    </tr>\n",
       "    <tr>\n",
       "      <th>1</th>\n",
       "      <td>IT_265087</td>\n",
       "      <td>2607.264687</td>\n",
       "    </tr>\n",
       "    <tr>\n",
       "      <th>2</th>\n",
       "      <td>IT_265107</td>\n",
       "      <td>4679.711229</td>\n",
       "    </tr>\n",
       "    <tr>\n",
       "      <th>3</th>\n",
       "      <td>IT_265139</td>\n",
       "      <td>7258.529993</td>\n",
       "    </tr>\n",
       "    <tr>\n",
       "      <th>4</th>\n",
       "      <td>IT_265142</td>\n",
       "      <td>1797.385595</td>\n",
       "    </tr>\n",
       "  </tbody>\n",
       "</table>\n",
       "</div>"
      ],
      "text/plain": [
       "     Item_Id  Low_Cap_Price\n",
       "0  IT_265079    3672.980428\n",
       "1  IT_265087    2607.264687\n",
       "2  IT_265107    4679.711229\n",
       "3  IT_265139    7258.529993\n",
       "4  IT_265142    1797.385595"
      ]
     },
     "execution_count": 70,
     "metadata": {},
     "output_type": "execute_result"
    }
   ],
   "source": [
    "# Create a submisison dataframe and append the relevant columns\n",
    "final_submission = pd.DataFrame()\n",
    "final_submission['Item_Id']=test['Item_Id']\n",
    "final_submission['Low_Cap_Price'] = predictions # our model predictions on the test dataset\n",
    "final_submission.head()"
   ]
  },
  {
   "cell_type": "code",
   "execution_count": 71,
   "metadata": {},
   "outputs": [
    {
     "name": "stdout",
     "output_type": "stream",
     "text": [
      "Submission CSV is ready!\n"
     ]
    }
   ],
   "source": [
    "# Convert submisison dataframe to csv for submission to csv \n",
    "# for HackerEarth submisison\n",
    "final_submission.to_csv('final_rf_submission.csv', index=False)\n",
    "print('Submission CSV is ready!')"
   ]
  }
 ],
 "metadata": {
  "kernelspec": {
   "display_name": "Python 3",
   "language": "python",
   "name": "python3"
  },
  "language_info": {
   "codemirror_mode": {
    "name": "ipython",
    "version": 3
   },
   "file_extension": ".py",
   "mimetype": "text/x-python",
   "name": "python",
   "nbconvert_exporter": "python",
   "pygments_lexer": "ipython3",
   "version": "3.7.7"
  }
 },
 "nbformat": 4,
 "nbformat_minor": 4
}
